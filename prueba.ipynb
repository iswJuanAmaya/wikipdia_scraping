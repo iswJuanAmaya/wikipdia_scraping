{
 "cells": [
  {
   "cell_type": "code",
   "execution_count": null,
   "metadata": {},
   "outputs": [],
   "source": [
    "from datetime import date, timedelta, datetime \n",
    "from email.message import EmailMessage \n",
    "from selenium.webdriver.chrome.options import Options \n",
    "from selenium.webdriver import ActionChains \n",
    "from selenium import webdriver \n",
    "from selenium.common.exceptions import TimeoutException, NoSuchElementException, NoAlertPresentException, ElementNotInteractableException \n",
    "from selenium.webdriver.support.ui import WebDriverWait, Select \n",
    "from selenium.webdriver.support import expected_conditions as EC \n",
    "from selenium.webdriver.common.by import By \n",
    "from dateutil.relativedelta import relativedelta\n",
    "\n",
    "import argparse\n",
    "import calendar\n",
    "import csv\n",
    "import gzip\n",
    "import imghdr\n",
    "import os\n",
    "import pandas as pd\n",
    "import re\n",
    "import smtplib\n",
    "import ssl\n",
    "import sys\n",
    "import shutil\n",
    "import time\n",
    "import random\n"
   ]
  },
  {
   "cell_type": "code",
   "execution_count": 1,
   "metadata": {},
   "outputs": [],
   "source": [
    "from selenium import webdriver\n",
    "\n",
    "\n",
    "from datetime import date, timedelta, datetime \n",
    "from selenium.webdriver import ActionChains \n",
    "from selenium.common.exceptions import TimeoutException, NoSuchElementException, NoAlertPresentException, ElementNotInteractableException \n",
    "from selenium.webdriver.support.ui import WebDriverWait\n",
    "from selenium.webdriver.support import expected_conditions as EC \n",
    "from selenium.webdriver.common.by import By \n",
    "import pandas as pd\n",
    "import time\n",
    "import random\n",
    "import os\n",
    "import sys"
   ]
  },
  {
   "cell_type": "code",
   "execution_count": 2,
   "metadata": {},
   "outputs": [],
   "source": [
    "from selenium.webdriver.firefox.service import Service as FirefoxService\n",
    "from webdriver_manager.firefox import GeckoDriverManager\n",
    "from selenium.webdriver.firefox.options import Options\n"
   ]
  },
  {
   "cell_type": "code",
   "execution_count": null,
   "metadata": {},
   "outputs": [],
   "source": [
    "from selenium.webdriver.chrome.service import Service\n",
    "from webdriver_manager.chrome import ChromeDriverManager\n",
    "from selenium.webdriver.chrome.options import Options "
   ]
  },
  {
   "cell_type": "code",
   "execution_count": 4,
   "metadata": {},
   "outputs": [],
   "source": [
    "options = Options()         \n",
    "options.add_argument(\"--incognito\") \n",
    "options.add_argument(\"--start-maximized\") \n",
    "options.add_argument(\"--window-size=1024,768\") \n",
    "options.add_argument(\"--no-sandbox\") \n",
    "options.add_argument(\"-allow-running-insecure-content\") \n",
    "options.add_argument( \"--user-agent=Mozilla/5.0 (X11; Linux x86_64) AppleWebKit/537.36 (KHTML, like Gecko) Chrome/60.0.3112.50 Safari/537.36\") \n",
    "# options.add_experimental_option(\"useAutomationExtension\", False) \n",
    "# options.add_experimental_option(\"excludeSwitches\",[\"enable-automation\"]) \n",
    "options.add_argument(\"--disable-blink-features\") \n",
    "options.add_argument(\"--disable-blink-features=AutomationControlled\") \n",
    "options.add_argument('--disable-infobars') \n",
    "\n",
    "# driver = webdriver.Chrome(options=chrome_options, executable_path='C:\\\\chromedriver.exe')"
   ]
  },
  {
   "cell_type": "code",
   "execution_count": null,
   "metadata": {},
   "outputs": [],
   "source": [
    "driver = webdriver.Chrome(service=Service(ChromeDriverManager().install()), options=options)"
   ]
  },
  {
   "cell_type": "code",
   "execution_count": 6,
   "metadata": {},
   "outputs": [],
   "source": [
    "driver = webdriver.Firefox(service=FirefoxService(executable_path=GeckoDriverManager().install()))\n"
   ]
  },
  {
   "cell_type": "code",
   "execution_count": 7,
   "metadata": {},
   "outputs": [],
   "source": [
    "driver.get(\"https://es.wikipedia.org/w/index.php?title=Anexo:Entidades_federativas_de_M%C3%A9xico_por_superficie,_poblaci%C3%B3n_y_densidad\")\n"
   ]
  },
  {
   "cell_type": "code",
   "execution_count": 9,
   "metadata": {},
   "outputs": [],
   "source": [
    "def r(de:int, a:int) -> int: \n",
    "    \"\"\"genera un randomint(@de, @a)\"\"\" \n",
    "    return random.randint(de, a)\n",
    "\n",
    "\n",
    "def duerme(sleep_time:int, stop:int = 0, msg:str = False) -> None: \n",
    "    \"\"\"dormirá durante @sleep_time + un randint(opcional)\n",
    "\n",
    "    dormirá durante @sleep_time por defecto, si @stop se especifican entonces \n",
    "    dormirá un randint(@sleep_time, @stop), en windows imprime cuanto va a dormir,\n",
    "    y si @msg se especifica se concatena antes de el msg por defecto.\n",
    "    \"\"\"\n",
    "    wait_time = random.randint(sleep_time, stop) if stop else sleep_time\n",
    "\n",
    "    default_msg = f\"Esperando {wait_time} sgs...\"\n",
    "    msg = f\"{msg}. {default_msg}\" if msg else default_msg\n",
    "\n",
    "    if os.name == \"nt\":#imprime traza (solo en windows)\n",
    "        print(msg)\n",
    "\n",
    "    time.sleep(wait_time)\n",
    "\n",
    "\n",
    "def click_por_xpath(driver, element:str, xpath:str, bilingual_xpath:str = \"\", \n",
    "                    sleep_time:int = 3, msg:str = \"\"): \n",
    "    \"\"\"encuentra un elemento del @driver por @xpath, le da click y duerme @sleeptime\n",
    "\n",
    "    si @msg es dado hace un print con su contenido.\n",
    "\n",
    "    si el @xpath original no encuentra elemento entonces intentará \n",
    "    con @bilingual_xpath, esto para dar soporte a más de un idioma.\n",
    "    \"\"\"\n",
    "\n",
    "    if msg:\n",
    "        print(msg)\n",
    "\n",
    "    # 1 intenta dar click\n",
    "    try:\n",
    "        driver.find_element(By.XPATH, xpath).click()\n",
    "\n",
    "    except NoSuchElementException:\n",
    "        if bilingual_xpath:\n",
    "            driver.find_element(By.XPATH, bilingual_xpath).click()\n",
    "        else:\n",
    "            raise Exception(f\"Error, no se pudo localizar el elemento {element}\")\n",
    "        \n",
    "    except Exception as e:\n",
    "        print(e)\n",
    "        driver.close()\n",
    "        sys.exit(0)\n",
    "\n",
    "    duerme(sleep_time)\n",
    "\n",
    "\n",
    "def fill_input(driver, texto:str, element:str, xpath:str, \n",
    "               bilingual_xpath:str = \"\", sleep_time:int = 3, msg:str = \"\"): \n",
    "    \"\"\"encuentra un input del @driver por @xpath, limpia, escribe y duerme @sleeptime\n",
    "\n",
    "    si @msg es dado hace un print con su contenido.\n",
    "\n",
    "    encuentra un input del @driver por @xpath, limpia el contenido \n",
    "    y escribe @texto, duerme @sleep_time\n",
    "\n",
    "    si el @xpath original no encuentra elemento entonces intentará \n",
    "    con @bilingual_xpath, esto para dar soporte a más de un idioma.\n",
    "    \"\"\"\n",
    "\n",
    "    if msg:\n",
    "        print(msg)\n",
    "\n",
    "    # 1 intenta dar click\n",
    "    try:\n",
    "        input_txt = driver.find_element(By.XPATH, xpath)\n",
    "        input_txt.clear()\n",
    "        duerme(1)\n",
    "        input_txt.send_keys(texto)\n",
    "\n",
    "    except NoSuchElementException:\n",
    "        if bilingual_xpath:\n",
    "            input_txt = driver.find_element(By.XPATH, bilingual_xpath)\n",
    "            input_txt.clear()\n",
    "            duerme(1)\n",
    "            input_txt.send_keys(texto)\n",
    "        else:\n",
    "            raise Exception(f\"Error, no se pudo localizar el elemento {element}\")\n",
    "        \n",
    "    except Exception as e:\n",
    "        print(e)\n",
    "        driver.close()\n",
    "        sys.exit(0)\n",
    "\n",
    "    duerme(sleep_time)\n"
   ]
  },
  {
   "cell_type": "code",
   "execution_count": 10,
   "metadata": {},
   "outputs": [
    {
     "name": "stdout",
     "output_type": "stream",
     "text": [
      "Iniciando proceso para iniciar sesión\n",
      "Esperando 6 sgs...\n",
      "Ingresando claves de acceso\n",
      "Esperando 1 sgs...\n",
      "Esperando 2 sgs...\n",
      "Esperando 1 sgs...\n",
      "Esperando 2 sgs...\n",
      "Esperando 6 sgs...\n"
     ]
    }
   ],
   "source": [
    "click_por_xpath(driver=driver, element=\"Acceder\", xpath='//span[text()=\"Acceder\"]',\n",
    "                sleep_time=r(3,6), msg=\"Iniciando proceso para iniciar sesión\")\n",
    "\n",
    "fill_input(driver=driver, texto=\"cristobalgarzalazar\", element=\"Usuario\", xpath='//input[@id=\"wpName1\"]', sleep_time=2, msg=\"Ingresando claves de acceso\" )\n",
    "\n",
    "fill_input(driver=driver, texto=\"pruebaai27\", element=\"contraseña\", xpath='//input[@id=\"wpPassword1\"]', sleep_time=2 )\n",
    "\n",
    "click_por_xpath(driver=driver, element=\"Ingresar\", xpath='//button[text()=\"Acceder\"]',\n",
    "sleep_time = r(5,9))"
   ]
  },
  {
   "cell_type": "code",
   "execution_count": null,
   "metadata": {},
   "outputs": [],
   "source": [
    "fill_input(driver=driver, texto=\"pruebaai27\", element=\"contraseña\", xpath='//input[@id=\"wpPassword1\"]', sleep_time=2 )"
   ]
  },
  {
   "cell_type": "code",
   "execution_count": null,
   "metadata": {},
   "outputs": [],
   "source": [
    "click_por_xpath(driver=driver, element=\"Ingresar\", xpath='//button[text()=\"Acceder\"]',\n",
    "                sleep_time = r(5,9))"
   ]
  },
  {
   "cell_type": "code",
   "execution_count": 11,
   "metadata": {},
   "outputs": [
    {
     "name": "stdout",
     "output_type": "stream",
     "text": [
      "Acceso correcto\n"
     ]
    }
   ],
   "source": [
    "try: \n",
    "    driver.find_element(By.XPATH, \n",
    "                '//*[contains(text(), \"contraseña que proporcionaste son incorrectos\")]'\n",
    "            ) \n",
    "    raise Exception(\"Error de acceso\") \n",
    "\n",
    "except NoSuchElementException: \n",
    "    print(\"Acceso correcto\")"
   ]
  },
  {
   "cell_type": "code",
   "execution_count": 12,
   "metadata": {},
   "outputs": [
    {
     "data": {
      "text/html": [
       "<div>\n",
       "<style scoped>\n",
       "    .dataframe tbody tr th:only-of-type {\n",
       "        vertical-align: middle;\n",
       "    }\n",
       "\n",
       "    .dataframe tbody tr th {\n",
       "        vertical-align: top;\n",
       "    }\n",
       "\n",
       "    .dataframe thead th {\n",
       "        text-align: right;\n",
       "    }\n",
       "</style>\n",
       "<table border=\"1\" class=\"dataframe\">\n",
       "  <thead>\n",
       "    <tr style=\"text-align: right;\">\n",
       "      <th></th>\n",
       "      <th>Lugar</th>\n",
       "      <th>Lugar.1</th>\n",
       "      <th>Lugar.2</th>\n",
       "      <th>Unnamed: 3</th>\n",
       "      <th>Superficie</th>\n",
       "      <th>Superficie.1</th>\n",
       "      <th>Población</th>\n",
       "      <th>Densidad</th>\n",
       "      <th>Capital</th>\n",
       "      <th>Capital.1</th>\n",
       "      <th>Capital.2</th>\n",
       "    </tr>\n",
       "  </thead>\n",
       "  <tbody>\n",
       "    <tr>\n",
       "      <th>0</th>\n",
       "      <td>Superficie</td>\n",
       "      <td>Población</td>\n",
       "      <td>Densidad</td>\n",
       "      <td>Nombre</td>\n",
       "      <td>(km²)</td>\n",
       "      <td>%</td>\n",
       "      <td>Estimación (2020)[1]​[2]​[3]​</td>\n",
       "      <td>2015 (hab./km²)</td>\n",
       "      <td>Capital del estado</td>\n",
       "      <td>Población (2020)</td>\n",
       "      <td>NaN</td>\n",
       "    </tr>\n",
       "    <tr>\n",
       "      <th>1</th>\n",
       "      <td>01</td>\n",
       "      <td>11</td>\n",
       "      <td>30</td>\n",
       "      <td>Chihuahua</td>\n",
       "      <td>247 455</td>\n",
       "      <td>126</td>\n",
       "      <td>3 741 869</td>\n",
       "      <td>14</td>\n",
       "      <td>Chihuahua</td>\n",
       "      <td>925 762</td>\n",
       "      <td>5.0</td>\n",
       "    </tr>\n",
       "    <tr>\n",
       "      <th>2</th>\n",
       "      <td>02</td>\n",
       "      <td>18</td>\n",
       "      <td>29</td>\n",
       "      <td>Sonora</td>\n",
       "      <td>179 355</td>\n",
       "      <td>92</td>\n",
       "      <td>2 944 840</td>\n",
       "      <td>16</td>\n",
       "      <td>Hermosillo</td>\n",
       "      <td>855 563</td>\n",
       "      <td>9.0</td>\n",
       "    </tr>\n",
       "  </tbody>\n",
       "</table>\n",
       "</div>"
      ],
      "text/plain": [
       "        Lugar    Lugar.1   Lugar.2 Unnamed: 3 Superficie Superficie.1  \\\n",
       "0  Superficie  Población  Densidad     Nombre      (km²)            %   \n",
       "1          01         11        30  Chihuahua    247 455          126   \n",
       "2          02         18        29     Sonora    179 355           92   \n",
       "\n",
       "                       Población         Densidad             Capital  \\\n",
       "0  Estimación (2020)[1]​[2]​[3]​  2015 (hab./km²)  Capital del estado   \n",
       "1                      3 741 869               14           Chihuahua   \n",
       "2                      2 944 840               16          Hermosillo   \n",
       "\n",
       "          Capital.1  Capital.2  \n",
       "0  Población (2020)        NaN  \n",
       "1           925 762        5.0  \n",
       "2           855 563        9.0  "
      ]
     },
     "execution_count": 12,
     "metadata": {},
     "output_type": "execute_result"
    }
   ],
   "source": [
    "table = driver.find_element(By.XPATH, \n",
    "                '//span[contains(text(),\"xico por superficie, poblac\")]/parent::*/following-sibling::table'\n",
    "            )\n",
    "pd.read_html(table.get_attribute('outerHTML'), header=1)[0].head(3)"
   ]
  },
  {
   "cell_type": "code",
   "execution_count": 16,
   "metadata": {},
   "outputs": [
    {
     "data": {
      "text/html": [
       "<div>\n",
       "<style scoped>\n",
       "    .dataframe tbody tr th:only-of-type {\n",
       "        vertical-align: middle;\n",
       "    }\n",
       "\n",
       "    .dataframe tbody tr th {\n",
       "        vertical-align: top;\n",
       "    }\n",
       "\n",
       "    .dataframe thead th {\n",
       "        text-align: right;\n",
       "    }\n",
       "</style>\n",
       "<table border=\"1\" class=\"dataframe\">\n",
       "  <thead>\n",
       "    <tr style=\"text-align: right;\">\n",
       "      <th></th>\n",
       "      <th>Pos</th>\n",
       "      <th>Entidad</th>\n",
       "      <th>2020[5]​</th>\n",
       "      <th>2010[4]​</th>\n",
       "      <th>2000[4]​</th>\n",
       "      <th>1990</th>\n",
       "      <th>1980</th>\n",
       "      <th>1970</th>\n",
       "      <th>1960</th>\n",
       "      <th>1950</th>\n",
       "      <th>1940</th>\n",
       "      <th>1930</th>\n",
       "      <th>1921</th>\n",
       "      <th>1910</th>\n",
       "    </tr>\n",
       "  </thead>\n",
       "  <tbody>\n",
       "    <tr>\n",
       "      <th>0</th>\n",
       "      <td>1</td>\n",
       "      <td>Estado de México</td>\n",
       "      <td>16 992 418</td>\n",
       "      <td>15 175 862</td>\n",
       "      <td>13 096 686</td>\n",
       "      <td>9 815 795</td>\n",
       "      <td>7 564 335</td>\n",
       "      <td>3 833 185</td>\n",
       "      <td>1 897 851</td>\n",
       "      <td>1 392 623</td>\n",
       "      <td>1 146 340</td>\n",
       "      <td>990 112</td>\n",
       "      <td>884 617</td>\n",
       "      <td>989 510</td>\n",
       "    </tr>\n",
       "    <tr>\n",
       "      <th>1</th>\n",
       "      <td>2</td>\n",
       "      <td>Ciudad de México</td>\n",
       "      <td>9 209 944</td>\n",
       "      <td>8 851 080</td>\n",
       "      <td>8 605 239</td>\n",
       "      <td>8 235 744</td>\n",
       "      <td>8 831 079</td>\n",
       "      <td>6 874 165</td>\n",
       "      <td>4 870 876</td>\n",
       "      <td>3 050 442</td>\n",
       "      <td>1 757 530</td>\n",
       "      <td>1 229 576</td>\n",
       "      <td>906 063</td>\n",
       "      <td>720 753</td>\n",
       "    </tr>\n",
       "    <tr>\n",
       "      <th>2</th>\n",
       "      <td>3</td>\n",
       "      <td>Jalisco</td>\n",
       "      <td>8 348 151</td>\n",
       "      <td>6 322 002</td>\n",
       "      <td>5 302 689</td>\n",
       "      <td>4 371 998</td>\n",
       "      <td>3 296 586</td>\n",
       "      <td>2 443 261</td>\n",
       "      <td>1 746 777</td>\n",
       "      <td>1 418 310</td>\n",
       "      <td>1 255 346</td>\n",
       "      <td>1 191 957</td>\n",
       "      <td>1 208 855</td>\n",
       "      <td>1 137 311</td>\n",
       "    </tr>\n",
       "  </tbody>\n",
       "</table>\n",
       "</div>"
      ],
      "text/plain": [
       "  Pos           Entidad    2020[5]​    2010[4]​    2000[4]​       1990  \\\n",
       "0   1  Estado de México  16 992 418  15 175 862  13 096 686  9 815 795   \n",
       "1   2  Ciudad de México   9 209 944   8 851 080   8 605 239  8 235 744   \n",
       "2   3           Jalisco   8 348 151   6 322 002   5 302 689  4 371 998   \n",
       "\n",
       "        1980       1970       1960       1950       1940       1930  \\\n",
       "0  7 564 335  3 833 185  1 897 851  1 392 623  1 146 340    990 112   \n",
       "1  8 831 079  6 874 165  4 870 876  3 050 442  1 757 530  1 229 576   \n",
       "2  3 296 586  2 443 261  1 746 777  1 418 310  1 255 346  1 191 957   \n",
       "\n",
       "        1921       1910  \n",
       "0    884 617    989 510  \n",
       "1    906 063    720 753  \n",
       "2  1 208 855  1 137 311  "
      ]
     },
     "execution_count": 16,
     "metadata": {},
     "output_type": "execute_result"
    }
   ],
   "source": [
    "table = driver.find_element(By.XPATH, \n",
    "                '//span[contains(text(),\"Censos (INEGI) 1900-2020\")]/parent::*/following-sibling::table'\n",
    "            ).get_attribute('outerHTML')\n",
    "pd.read_html( table, header=1 )[0].head(3)"
   ]
  },
  {
   "cell_type": "code",
   "execution_count": 17,
   "metadata": {},
   "outputs": [],
   "source": [
    "table = driver.find_element(By.XPATH, \n",
    "                '//span[contains(text(),\"Proyecciones de poblaci\")]/parent::*/following-sibling::table'\n",
    "            )\n",
    "df = pd.read_html(table.get_attribute('outerHTML'),header=1)[0]"
   ]
  },
  {
   "cell_type": "code",
   "execution_count": 18,
   "metadata": {},
   "outputs": [],
   "source": [
    "links_de_anexos = table.find_elements(By.XPATH, './tbody/tr/td[2]/a')"
   ]
  },
  {
   "cell_type": "code",
   "execution_count": 29,
   "metadata": {},
   "outputs": [
    {
     "data": {
      "text/html": [
       "<div>\n",
       "<style scoped>\n",
       "    .dataframe tbody tr th:only-of-type {\n",
       "        vertical-align: middle;\n",
       "    }\n",
       "\n",
       "    .dataframe tbody tr th {\n",
       "        vertical-align: top;\n",
       "    }\n",
       "\n",
       "    .dataframe thead th {\n",
       "        text-align: right;\n",
       "    }\n",
       "</style>\n",
       "<table border=\"1\" class=\"dataframe\">\n",
       "  <thead>\n",
       "    <tr style=\"text-align: right;\">\n",
       "      <th></th>\n",
       "      <th>Pos</th>\n",
       "      <th>Entidad</th>\n",
       "      <th>2010</th>\n",
       "      <th>2015</th>\n",
       "      <th>2020</th>\n",
       "      <th>2025</th>\n",
       "      <th>2030</th>\n",
       "      <th>toponimia</th>\n",
       "      <th>avertl</th>\n",
       "    </tr>\n",
       "  </thead>\n",
       "  <tbody>\n",
       "    <tr>\n",
       "      <th>0</th>\n",
       "      <td>1</td>\n",
       "      <td>Estado de México</td>\n",
       "      <td>15 571 679</td>\n",
       "      <td>16 870 388</td>\n",
       "      <td>18 075 065</td>\n",
       "      <td>19 178 922</td>\n",
       "      <td>20 167 433</td>\n",
       "      <td>El nombre del Estado de México deriva del térm...</td>\n",
       "      <td>avertl</td>\n",
       "    </tr>\n",
       "    <tr>\n",
       "      <th>1</th>\n",
       "      <td>2</td>\n",
       "      <td>Ciudad de México</td>\n",
       "      <td>8 944 599</td>\n",
       "      <td>8 854 600</td>\n",
       "      <td>8 738 914</td>\n",
       "      <td>8 600 179</td>\n",
       "      <td>8 439 786</td>\n",
       "      <td>El nombre del Estado de México deriva del térm...</td>\n",
       "      <td>avertl</td>\n",
       "    </tr>\n",
       "    <tr>\n",
       "      <th>2</th>\n",
       "      <td>3</td>\n",
       "      <td>Veracruz</td>\n",
       "      <td>7 712 247</td>\n",
       "      <td>8 046 828</td>\n",
       "      <td>8 328 389</td>\n",
       "      <td>8 573 860</td>\n",
       "      <td>8 781 620</td>\n",
       "      <td>El nombre del Estado de México deriva del térm...</td>\n",
       "      <td>avertl</td>\n",
       "    </tr>\n",
       "  </tbody>\n",
       "</table>\n",
       "</div>"
      ],
      "text/plain": [
       "  Pos           Entidad        2010        2015        2020        2025  \\\n",
       "0   1  Estado de México  15 571 679  16 870 388  18 075 065  19 178 922   \n",
       "1   2  Ciudad de México   8 944 599   8 854 600   8 738 914   8 600 179   \n",
       "2   3          Veracruz   7 712 247   8 046 828   8 328 389   8 573 860   \n",
       "\n",
       "         2030                                          toponimia  avertl  \n",
       "0  20 167 433  El nombre del Estado de México deriva del térm...  avertl  \n",
       "1   8 439 786  El nombre del Estado de México deriva del térm...  avertl  \n",
       "2   8 781 620  El nombre del Estado de México deriva del térm...  avertl  "
      ]
     },
     "execution_count": 29,
     "metadata": {},
     "output_type": "execute_result"
    }
   ],
   "source": [
    "df.head(3)"
   ]
  },
  {
   "cell_type": "code",
   "execution_count": 27,
   "metadata": {},
   "outputs": [],
   "source": [
    "aver = 'avertl'"
   ]
  },
  {
   "cell_type": "code",
   "execution_count": 28,
   "metadata": {},
   "outputs": [],
   "source": [
    "df[aver] = aver"
   ]
  },
  {
   "cell_type": "code",
   "execution_count": null,
   "metadata": {},
   "outputs": [],
   "source": [
    "df['toponimia'] = 'Sin link'\n",
    "\n",
    "for link_anexo in links_de_anexos:\n",
    "    \"\"\"Itera una lista de anexos y extrae un parrafo de cada uno\n",
    "    \n",
    "    Itera una lista de anexos(links), lo visita,\n",
    "    busca un dato especifico y extrae el 1er parrafo\n",
    "    si no encuentra el dato buscado agrega 'Sin dato'\n",
    "    \"\"\"\n",
    "\n",
    "    nombre_del_dato = link_anexo.text\n",
    "\n",
    "    print(f\"visitando: {nombre_del_dato}\")\n",
    "    driver.execute_script(\"arguments[0].scrollIntoView(true);\", link_anexo)\n",
    "    ActionChains(driver).move_to_element(link_anexo).click().perform()\n",
    "\n",
    "    #JC se comentó porque en firefox no servía el scroll de AC()\n",
    "    # ActionChains(driver).scroll_to_element(link_anexo).pause(r(1,2))\\\n",
    "    #     .click(link_anexo).perform()\n",
    "    \n",
    "    duerme(4,8)\n",
    "\n",
    "    print(\"extrayendo parrafo\")\n",
    "    try:\n",
    "        parrafo = driver.find_element(By.XPATH, \n",
    "                        '//span[contains(text(),\"oponimia\")]/parent::*/following-sibling::p'\n",
    "                        ).text\n",
    "    except NoSuchElementException: \n",
    "        print(\"No se encontró toponimia.\")    \n",
    "        parrafo = 'Sin dato'\n",
    "\n",
    "    try:\n",
    "        df['toponimia'][df['Entidad'] == nombre_del_dato] = parrafo\n",
    "    except Exception as e:\n",
    "        print(f\"No se pudo anexar la toponimia \\n{e}\")\n",
    "    \n",
    "    print(\"Volviendo a página principal\")\n",
    "    driver.back()\n",
    "\n",
    "    duerme(4,8)"
   ]
  },
  {
   "cell_type": "code",
   "execution_count": 24,
   "metadata": {},
   "outputs": [],
   "source": [
    "df.to_excel('output.xlsx', sheet_name='ai27')"
   ]
  },
  {
   "cell_type": "code",
   "execution_count": 32,
   "metadata": {},
   "outputs": [],
   "source": [
    "tablas_a_extraer = [\n",
    "    \"Entidades federativas de México por superficie, población y densidad\",\n",
    "    \"Censos (INEGI) 1900-2020\",\n",
    "    \"Proyecciones de población 2010-2030 (CONAPO)\"\n",
    "]"
   ]
  },
  {
   "cell_type": "code",
   "execution_count": 33,
   "metadata": {},
   "outputs": [
    {
     "name": "stdout",
     "output_type": "stream",
     "text": [
      "Entidades federativas de México por superficie, población y densidad\n",
      "Censos (INEGI) 1900-2020\n",
      "Proyecciones de población 2010-2030 (CONAPO)\n"
     ]
    }
   ],
   "source": [
    "for tabla_a_extrar in tablas_a_extraer:\n",
    "    print(tabla_a_extrar)"
   ]
  },
  {
   "cell_type": "code",
   "execution_count": null,
   "metadata": {},
   "outputs": [],
   "source": [
    "driver.find_element(By.XPATH, \n",
    "                    '//span[contains(text(),\"oponimia\")]/parent::*/following-sibling::p'\n",
    "                    ).text"
   ]
  },
  {
   "cell_type": "code",
   "execution_count": null,
   "metadata": {},
   "outputs": [],
   "source": []
  },
  {
   "cell_type": "code",
   "execution_count": null,
   "metadata": {},
   "outputs": [],
   "source": []
  },
  {
   "cell_type": "code",
   "execution_count": 21,
   "metadata": {},
   "outputs": [],
   "source": [
    "driver.quit()"
   ]
  },
  {
   "cell_type": "code",
   "execution_count": null,
   "metadata": {},
   "outputs": [],
   "source": []
  }
 ],
 "metadata": {
  "kernelspec": {
   "display_name": "Python 3",
   "language": "python",
   "name": "python3"
  },
  "language_info": {
   "codemirror_mode": {
    "name": "ipython",
    "version": 3
   },
   "file_extension": ".py",
   "mimetype": "text/x-python",
   "name": "python",
   "nbconvert_exporter": "python",
   "pygments_lexer": "ipython3",
   "version": "3.9.0"
  }
 },
 "nbformat": 4,
 "nbformat_minor": 2
}
